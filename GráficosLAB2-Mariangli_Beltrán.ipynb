{
 "cells": [
  {
   "cell_type": "markdown",
   "metadata": {},
   "source": [
    "# ************************* Laboratorio 2: Mariangli Beltrán *****************************"
   ]
  },
  {
   "cell_type": "markdown",
   "metadata": {},
   "source": [
    "# Gráfico - Temperatura Nevera"
   ]
  },
  {
   "cell_type": "markdown",
   "metadata": {},
   "source": [
    "### Gráfico en real-time: Temperatura de la Nevera [Fahrenheit] en función del Tiempo [minutos]"
   ]
  },
  {
   "cell_type": "code",
   "execution_count": 35,
   "metadata": {},
   "outputs": [
    {
     "data": {
      "application/vnd.jupyter.widget-view+json": {
       "model_id": "465a7a31a9354aefaf1b36bd77a58900",
       "version_major": 2,
       "version_minor": 0
      },
      "text/plain": [
       "FigureWidget({\n",
       "    'data': [], 'layout': {'template': '...'}\n",
       "})"
      ]
     },
     "metadata": {},
     "output_type": "display_data"
    }
   ],
   "source": [
    "import plotly.graph_objs as go\n",
    "\n",
    "GrafiquitoNevera = go.FigureWidget()\n",
    "GrafiquitoNevera"
   ]
  },
  {
   "cell_type": "code",
   "execution_count": null,
   "metadata": {},
   "outputs": [],
   "source": [
    "import sys\n",
    "import paho.mqtt.client\n",
    "import json\n",
    "\n",
    "GrafiquitoNevera.add_scatter(x=[], y=[])\n",
    "ListaTempNev = []\n",
    "ListaTiempoMin = []\n",
    "\n",
    "def on_connect(client, userdata, flags, rc):\n",
    "\tprint('connected (%s)' % client._client_id)\n",
    "\tclient.subscribe(topic='Casa/Cocina/temperatura_nevera', qos=2)\n",
    "    \n",
    "def on_message(client, userdata, message):\n",
    "    PayloadOriginal = json.loads(message.payload)\n",
    "    if PayloadOriginal.get(\"TemperaturaNevera\"):\n",
    "        ListaTempNev.append(float(PayloadOriginal[\"TemperaturaNevera\"]))\n",
    "        ListaTiempoMin.append(PayloadOriginal[\"Minuto\"])\n",
    "        GrafiquitoNevera.data[0].x = ListaTiempoMin\n",
    "        GrafiquitoNevera.data[0].y = ListaTempNev\n",
    "        \n",
    "def main():\n",
    "\tclient = paho.mqtt.client.Client(client_id='MaryBeltran-GraficoTempNevera', clean_session=False)\n",
    "\tclient.on_connect = on_connect\n",
    "\tclient.on_message = on_message\n",
    "\tclient.connect(host='127.0.0.1', port=1883)\n",
    "\tclient.loop_forever()\n",
    "    \n",
    "if __name__ == '__main__':  \n",
    "    main()\n",
    "    sys.exit(0)"
   ]
  },
  {
   "cell_type": "markdown",
   "metadata": {},
   "source": [
    "# Gráfico - Temperatura Olla"
   ]
  },
  {
   "cell_type": "markdown",
   "metadata": {},
   "source": [
    "### Gráfico en real-time: Temperatura de la Olla [Centígrados] en función del Tiempo [segundos]"
   ]
  },
  {
   "cell_type": "code",
   "execution_count": 38,
   "metadata": {},
   "outputs": [
    {
     "data": {
      "application/vnd.jupyter.widget-view+json": {
       "model_id": "4ddd99f448244342a468eb8599872699",
       "version_major": 2,
       "version_minor": 0
      },
      "text/plain": [
       "FigureWidget({\n",
       "    'data': [], 'layout': {'template': '...'}\n",
       "})"
      ]
     },
     "metadata": {},
     "output_type": "display_data"
    }
   ],
   "source": [
    "import plotly.graph_objs as go\n",
    "\n",
    "GrafiquitoOlla = go.FigureWidget()\n",
    "GrafiquitoOlla"
   ]
  },
  {
   "cell_type": "code",
   "execution_count": null,
   "metadata": {},
   "outputs": [],
   "source": [
    "import sys\n",
    "import paho.mqtt.client\n",
    "import json\n",
    "\n",
    "GrafiquitoOlla.add_scatter(x=[], y=[])\n",
    "ListaTempOlla = []\n",
    "ListaTiempoSeg = []\n",
    "\n",
    "def on_connect(client, userdata, flags, rc):\n",
    "\tprint('connected (%s)' % client._client_id)\n",
    "\tclient.subscribe(topic='Casa/Cocina/temperatura_olla', qos=0)\n",
    "    \n",
    "def on_message(client, userdata, message):\n",
    "    PayloadOriginal = json.loads(message.payload)\n",
    "    if PayloadOriginal.get(\"TemperaturaOlla\"):\n",
    "        ListaTempOlla.append(float(PayloadOriginal[\"TemperaturaOlla\"]))\n",
    "        ListaTiempoSeg.append(PayloadOriginal[\"Segundo\"])\n",
    "        GrafiquitoOlla.data[0].x = ListaTiempoSeg\n",
    "        GrafiquitoOlla.data[0].y = ListaTempOlla\n",
    "        \n",
    "def main():\n",
    "\tclient = paho.mqtt.client.Client(client_id='MaryBeltran-GraficoTempOlla', clean_session=False)\n",
    "\tclient.on_connect = on_connect\n",
    "\tclient.on_message = on_message\n",
    "\tclient.connect(host='127.0.0.1', port=1883)\n",
    "\tclient.loop_forever()\n",
    "    \n",
    "if __name__ == '__main__':  \n",
    "    main()\n",
    "    sys.exit(0)"
   ]
  },
  {
   "cell_type": "markdown",
   "metadata": {},
   "source": [
    "# Gráfico - Contador personas en Sala"
   ]
  },
  {
   "cell_type": "markdown",
   "metadata": {},
   "source": [
    "### Gráfico en real-time: Personas en la Sala [personas] en función del Tiempo [minutos]"
   ]
  },
  {
   "cell_type": "code",
   "execution_count": 42,
   "metadata": {},
   "outputs": [
    {
     "data": {
      "application/vnd.jupyter.widget-view+json": {
       "model_id": "8e8ccc9d9e3345bebae42aaa57741e6c",
       "version_major": 2,
       "version_minor": 0
      },
      "text/plain": [
       "FigureWidget({\n",
       "    'data': [], 'layout': {'template': '...'}\n",
       "})"
      ]
     },
     "metadata": {},
     "output_type": "display_data"
    }
   ],
   "source": [
    "import plotly.graph_objs as go\n",
    "\n",
    "GrafiquitoContadorPersonas = go.FigureWidget()\n",
    "GrafiquitoContadorPersonas"
   ]
  },
  {
   "cell_type": "code",
   "execution_count": null,
   "metadata": {},
   "outputs": [],
   "source": [
    "import sys\n",
    "import paho.mqtt.client\n",
    "import json\n",
    "\n",
    "GrafiquitoContadorPersonas.add_scatter(x=[], y=[])\n",
    "ListaContadorP = []\n",
    "ListaTiempoMin = []\n",
    "\n",
    "def on_connect(client, userdata, flags, rc):\n",
    "\tprint('connected (%s)' % client._client_id)\n",
    "\tclient.subscribe(topic='Casa/Sala/contar_personas', qos=0)\n",
    "    \n",
    "def on_message(client, userdata, message):\n",
    "    PayloadOriginal = json.loads(message.payload)\n",
    "    if PayloadOriginal.get(\"Personas en la Sala\"):\n",
    "        ListaContadorP.append(float(PayloadOriginal[\"Personas en la Sala\"]))\n",
    "        ListaTiempoMin.append(PayloadOriginal[\"Minuto\"])\n",
    "        GrafiquitoContadorPersonas.data[0].x = ListaTiempoMin\n",
    "        GrafiquitoContadorPersonas.data[0].y = ListaContadorP\n",
    "        \n",
    "def main():\n",
    "\tclient = paho.mqtt.client.Client(client_id='MaryBeltran-GraficoContadorPersonas', clean_session=False)\n",
    "\tclient.on_connect = on_connect\n",
    "\tclient.on_message = on_message\n",
    "\tclient.connect(host='127.0.0.1', port=1883)\n",
    "\tclient.loop_forever()\n",
    "    \n",
    "if __name__ == '__main__':  \n",
    "    main()\n",
    "    sys.exit(0)"
   ]
  },
  {
   "cell_type": "markdown",
   "metadata": {},
   "source": [
    "# Gráfico - Temperatura en CCS por AmazonAlexaEchoDot"
   ]
  },
  {
   "cell_type": "markdown",
   "metadata": {},
   "source": [
    "### Gráfico en real-time: Temperatura de Caracas [Fahrenheit] en función del Tiempo [minutos]"
   ]
  },
  {
   "cell_type": "code",
   "execution_count": 44,
   "metadata": {},
   "outputs": [
    {
     "data": {
      "application/vnd.jupyter.widget-view+json": {
       "model_id": "5a2f05290d5547f7ad5b76a8273bc7af",
       "version_major": 2,
       "version_minor": 0
      },
      "text/plain": [
       "FigureWidget({\n",
       "    'data': [], 'layout': {'template': '...'}\n",
       "})"
      ]
     },
     "metadata": {},
     "output_type": "display_data"
    }
   ],
   "source": [
    "import plotly.graph_objs as go\n",
    "\n",
    "GrafiquitoTempAlexa = go.FigureWidget()\n",
    "GrafiquitoTempAlexa"
   ]
  },
  {
   "cell_type": "code",
   "execution_count": null,
   "metadata": {},
   "outputs": [],
   "source": [
    "import sys\n",
    "import paho.mqtt.client\n",
    "import json\n",
    "\n",
    "GrafiquitoTempAlexa.add_scatter(x=[], y=[])\n",
    "ListaTempCcs = []\n",
    "ListaTiempoMin = []\n",
    "\n",
    "def on_connect(client, userdata, flags, rc):\n",
    "\tprint('connected (%s)' % client._client_id)\n",
    "\tclient.subscribe(topic='Casa/Sala/alexa_echo', qos=0)\n",
    "    \n",
    "def on_message(client, userdata, message):\n",
    "    PayloadOriginal = json.loads(message.payload)\n",
    "    if PayloadOriginal.get(\"TemperaturaCaracas\"):\n",
    "        ListaTempCcs.append(float(PayloadOriginal[\"TemperaturaCaracas\"]))\n",
    "        ListaTiempoMin.append(PayloadOriginal[\"Minuto\"])\n",
    "        GrafiquitoTempAlexa.data[0].x = ListaTiempoMin\n",
    "        GrafiquitoTempAlexa.data[0].y = ListaTempCcs\n",
    "        \n",
    "def main():\n",
    "\tclient = paho.mqtt.client.Client(client_id='MaryBeltran-GraficoTempCcsAlexa', clean_session=False)\n",
    "\tclient.on_connect = on_connect\n",
    "\tclient.on_message = on_message\n",
    "\tclient.connect(host='127.0.0.1', port=1883)\n",
    "\tclient.loop_forever()\n",
    "    \n",
    "if __name__ == '__main__':  \n",
    "    main()\n",
    "    sys.exit(0)"
   ]
  },
  {
   "cell_type": "markdown",
   "metadata": {},
   "source": [
    "# Gráfico - Nivel Agua en Tanque del Baño"
   ]
  },
  {
   "cell_type": "markdown",
   "metadata": {},
   "source": [
    "### Gráfico en real-time: Nivel de Agua [Litros] en función del Tiempo [minutos]"
   ]
  },
  {
   "cell_type": "code",
   "execution_count": 50,
   "metadata": {},
   "outputs": [
    {
     "data": {
      "application/vnd.jupyter.widget-view+json": {
       "model_id": "b46ca13520c14adcbf0fe2820372e405",
       "version_major": 2,
       "version_minor": 0
      },
      "text/plain": [
       "FigureWidget({\n",
       "    'data': [], 'layout': {'template': '...'}\n",
       "})"
      ]
     },
     "metadata": {},
     "output_type": "display_data"
    }
   ],
   "source": [
    "import plotly.graph_objs as go\n",
    "\n",
    "GrafiquitoNivelTanque = go.FigureWidget()\n",
    "GrafiquitoNivelTanque"
   ]
  },
  {
   "cell_type": "code",
   "execution_count": null,
   "metadata": {},
   "outputs": [],
   "source": [
    "import sys\n",
    "import paho.mqtt.client\n",
    "import json\n",
    "\n",
    "GrafiquitoNivelTanque.add_scatter(x=[], y=[])\n",
    "ListaAguaTanq = []\n",
    "ListaTiempoMin = []\n",
    "\n",
    "def on_connect(client, userdata, flags, rc):\n",
    "\tprint('connected (%s)' % client._client_id)\n",
    "\tclient.subscribe(topic='Casa/Baño/nivel_tanque', qos=0)\n",
    "    \n",
    "def on_message(client, userdata, message):\n",
    "    PayloadOriginal = json.loads(message.payload)\n",
    "    if PayloadOriginal.get(\"AguaEnTanque\"):\n",
    "        ListaAguaTanq.append(float(PayloadOriginal[\"AguaEnTanque\"]))\n",
    "        ListaTiempoMin.append(PayloadOriginal[\"Minuto\"])\n",
    "        GrafiquitoNivelTanque.data[0].x = ListaTiempoMin\n",
    "        GrafiquitoNivelTanque.data[0].y = ListaAguaTanq\n",
    "        \n",
    "def main():\n",
    "\tclient = paho.mqtt.client.Client(client_id='MaryBeltran-GraficoNivelAguaTanque', clean_session=False)\n",
    "\tclient.on_connect = on_connect\n",
    "\tclient.on_message = on_message\n",
    "\tclient.connect(host='127.0.0.1', port=1883)\n",
    "\tclient.loop_forever()\n",
    "    \n",
    "if __name__ == '__main__':  \n",
    "    main()\n",
    "    sys.exit(0)"
   ]
  }
 ],
 "metadata": {
  "kernelspec": {
   "display_name": "Python 3",
   "language": "python",
   "name": "python3"
  },
  "language_info": {
   "codemirror_mode": {
    "name": "ipython",
    "version": 3
   },
   "file_extension": ".py",
   "mimetype": "text/x-python",
   "name": "python",
   "nbconvert_exporter": "python",
   "pygments_lexer": "ipython3",
   "version": "3.8.3"
  }
 },
 "nbformat": 4,
 "nbformat_minor": 4
}
